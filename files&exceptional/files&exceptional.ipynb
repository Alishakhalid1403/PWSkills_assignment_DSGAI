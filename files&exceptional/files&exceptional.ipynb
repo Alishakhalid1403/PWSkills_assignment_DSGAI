{
 "cells": [
  {
   "cell_type": "raw",
   "id": "f4f11a91-2962-4d45-991a-e3ff8b12bd59",
   "metadata": {},
   "source": [
    "FILES AND EXCEPTIONAL HANDLING"
   ]
  },
  {
   "cell_type": "code",
   "execution_count": 8,
   "id": "178dd011-0d59-44bb-9b01-96878c17bf0f",
   "metadata": {},
   "outputs": [],
   "source": [
    "#Q1. Multithreading vs Multiprocessing:\n",
    "    #1. Multithreading: is preferable when tasks are I/O-bound (e.g., file handling, web scraping) since it doesn't require heavy CPU usage. Threads share memory space, making communication faster.\n",
    "    #2. Multiprocessing: is better for CPU-bound tasks (e.g., heavy computation), as it can fully utilize multiple CPU cores. Each process runs independently with its own memory space.\n",
    "\n",
    "#Q2. Process Pool:\n",
    "   #A process pool is a collection of worker processes that execute tasks in parallel. It helps manage multiple processes efficiently by distributing tasks among a limited number of processes rather than creating new ones for every task.\n",
    "\n",
    "#Q3. Multiprocessing:\n",
    "   # Multiprocessing allows parallel execution of tasks by creating separate processes, each with its own memory space. It's used in Python to achieve concurrent execution of CPU-bound tasks, taking full advantage of multiple cores.\n",
    "\n"
   ]
  },
  {
   "cell_type": "code",
   "execution_count": 9,
   "id": "53bea5d0-caf2-422a-9fa3-d0a76eb6096d",
   "metadata": {},
   "outputs": [
    {
     "name": "stdout",
     "output_type": "stream",
     "text": [
      "Added: 0\n",
      "Added: 1\n",
      "Added: 2\n",
      "Added: 3\n",
      "Added: 4\n",
      "Removed: 0\n",
      "Removed: 1\n",
      "Removed: 2\n",
      "Removed: 3\n",
      "Removed: 4\n",
      "Final list: []\n"
     ]
    }
   ],
   "source": [
    "#4. Python Multithreading Program:\n",
    "import threading\n",
    "\n",
    "my_list = []\n",
    "lock = threading.Lock()\n",
    "\n",
    "def add_numbers():\n",
    "    for i in range(5):\n",
    "        with lock:\n",
    "            my_list.append(i)\n",
    "            print(f\"Added: {i}\")\n",
    "\n",
    "def remove_numbers():\n",
    "    for _ in range(5):\n",
    "        with lock:\n",
    "            if my_list:\n",
    "                num = my_list.pop(0)\n",
    "                print(f\"Removed: {num}\")\n",
    "\n",
    "t1 = threading.Thread(target=add_numbers)\n",
    "t2 = threading.Thread(target=remove_numbers)\n",
    "\n",
    "t1.start()\n",
    "t2.start()\n",
    "\n",
    "t1.join()\n",
    "t2.join()\n",
    "\n",
    "print(\"Final list:\", my_list)"
   ]
  },
  {
   "cell_type": "code",
   "execution_count": 10,
   "id": "e2d9a717-5706-4c93-bacc-aa11cc6e8180",
   "metadata": {},
   "outputs": [],
   "source": [
    "#5. Methods for Safely Sharing Data:\n",
    "   #1. threading.Lock**: Prevents race conditions by ensuring that only one thread can access shared data at a time.\n",
    "   #2. multiprocessing.Queue**: Allows safe sharing of data between processes.\n",
    "   #3. multiprocessing.Manager**: Manages shared state for multiple processes.\n",
    "\n",
    "#6. Exception Handling in Concurrency:\n",
    "   #It's crucial to handle exceptions in concurrent programs to avoid deadlocks, resource leakage, or program crashes. Techniques include using try-except blocks in threads/processes and wrapping tasks in futures with timeout management.\n"
   ]
  },
  {
   "cell_type": "code",
   "execution_count": 11,
   "id": "b12964b4-a798-42d1-a5b6-fccfb20e50cd",
   "metadata": {},
   "outputs": [
    {
     "name": "stdout",
     "output_type": "stream",
     "text": [
      "[1, 2, 6, 24, 120, 720, 5040, 40320, 362880, 3628800]\n"
     ]
    }
   ],
   "source": [
    "#Q7. Thread Pool for Factorial Calculation:\n",
    "   \n",
    "import concurrent.futures\n",
    "import math\n",
    "def factorial(n):\n",
    "    return math.factorial(n)\n",
    "with concurrent.futures.ThreadPoolExecutor() as executor:\n",
    "    numbers = range(1, 11)\n",
    "    results = executor.map(factorial, numbers)\n",
    "    print(list(results))"
   ]
  },
  {
   "cell_type": "code",
   "execution_count": 12,
   "id": "391c4617-5c61-420f-b60c-9b1fe981e121",
   "metadata": {},
   "outputs": [
    {
     "name": "stdout",
     "output_type": "stream",
     "text": [
      "Pool Size: 2, Time Taken: 0.02009 seconds, Results: [1, 4, 9, 16, 25, 36, 49, 64, 81, 100]\n",
      "Pool Size: 4, Time Taken: 0.02959 seconds, Results: [1, 4, 9, 16, 25, 36, 49, 64, 81, 100]\n",
      "Pool Size: 8, Time Taken: 0.05683 seconds, Results: [1, 4, 9, 16, 25, 36, 49, 64, 81, 100]\n"
     ]
    }
   ],
   "source": [
    "# Q8. Multiprocessing Pool for Squaring Numbers:\n",
    "import multiprocessing\n",
    "import time\n",
    "def square(n):\n",
    "    return n * n\n",
    "numbers = range(1, 11)\n",
    "for pool_size in [2, 4, 8]:\n",
    "    start = time.time()\n",
    "    with multiprocessing.Pool(pool_size) as pool:\n",
    "        results = pool.map(square, numbers)\n",
    "        end = time.time()\n",
    "        print(f\"Pool Size: {pool_size}, Time Taken: {end - start:.5f} seconds, Results: {results}\")\n",
    "   "
   ]
  },
  {
   "cell_type": "code",
   "execution_count": null,
   "id": "a0c922c0-039c-446b-8314-c1a3a186756f",
   "metadata": {},
   "outputs": [],
   "source": []
  },
  {
   "cell_type": "code",
   "execution_count": null,
   "id": "a06b90e9-e553-4438-bff1-b576a71db177",
   "metadata": {},
   "outputs": [],
   "source": []
  },
  {
   "cell_type": "code",
   "execution_count": null,
   "id": "10b1c336-7dc9-4481-b8b1-32d1ed321117",
   "metadata": {},
   "outputs": [],
   "source": []
  }
 ],
 "metadata": {
  "kernelspec": {
   "display_name": "Python 3 (ipykernel)",
   "language": "python",
   "name": "python3"
  },
  "language_info": {
   "codemirror_mode": {
    "name": "ipython",
    "version": 3
   },
   "file_extension": ".py",
   "mimetype": "text/x-python",
   "name": "python",
   "nbconvert_exporter": "python",
   "pygments_lexer": "ipython3",
   "version": "3.10.8"
  }
 },
 "nbformat": 4,
 "nbformat_minor": 5
}
